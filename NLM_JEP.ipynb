{
 "cells": [
  {
   "cell_type": "code",
   "execution_count": 3,
   "id": "312e78c4-11cb-42a8-865e-78824bd05865",
   "metadata": {},
   "outputs": [],
   "source": [
    "import pandas as pd\n",
    "import numpy as np\n",
    "import matplotlib.pyplot as plt\n",
    "import ipywidgets as wd\n",
    "from ipywidgets import interact\n",
    "import seaborn as sns\n",
    "#import ptitprince as pt\n",
    "import re #I import this library 'cause I need to deal with regular expressions\n",
    "from sklearn.decomposition import PCA\n",
    "from mlxtend.plotting import plot_decision_regions\n",
    "import warnings\n",
    "warnings.filterwarnings(\"ignore\")\n",
    "from sklearn.cluster import KMeans\n",
    "from sklearn.neighbors import KNeighborsClassifier\n",
    "from sklearn.tree import DecisionTreeClassifier\n",
    "from sklearn.tree import plot_tree\n",
    "from sklearn import tree\n",
    "#from yellowbrick.cluster import KElbowVisualizer\n",
    "from sklearn import metrics\n",
    "sns.set_style('whitegrid')\n",
    "from sklearn.metrics import confusion_matrix\n",
    "from sklearn.model_selection import train_test_split\n",
    "from sklearn import datasets\n",
    "from sklearn.linear_model import LinearRegression\n",
    "from category_encoders import TargetEncoder\n",
    "from sklearn.preprocessing import PolynomialFeatures"
   ]
  },
  {
   "cell_type": "code",
   "execution_count": 6,
   "id": "0a4b9ae9-2c77-4146-95cd-a62eda627252",
   "metadata": {},
   "outputs": [
    {
     "data": {
      "application/vnd.jupyter.widget-view+json": {
       "model_id": "14ee007a0dbb4000997864b8531df469",
       "version_major": 2,
       "version_minor": 0
      },
      "text/plain": [
       "Downloading https://raw.githubusercontent.com/stanfordnlp/stanza-resources/main/resources_1.8.0.json:   0%|   …"
      ]
     },
     "metadata": {},
     "output_type": "display_data"
    },
    {
     "name": "stderr",
     "output_type": "stream",
     "text": [
      "2024-04-09 12:05:56 INFO: Downloaded file to C:\\Users\\jlsan\\stanza_resources\\resources.json\n",
      "2024-04-09 12:05:56 INFO: Downloading default packages for language: es (Spanish) ...\n"
     ]
    },
    {
     "data": {
      "application/vnd.jupyter.widget-view+json": {
       "model_id": "9325f9c4ac834d4cbc03e3d3feaf5537",
       "version_major": 2,
       "version_minor": 0
      },
      "text/plain": [
       "Downloading https://huggingface.co/stanfordnlp/stanza-es/resolve/v1.8.0/models/default.zip:   0%|          | 0…"
      ]
     },
     "metadata": {},
     "output_type": "display_data"
    },
    {
     "name": "stderr",
     "output_type": "stream",
     "text": [
      "2024-04-09 12:06:12 INFO: Downloaded file to C:\\Users\\jlsan\\stanza_resources\\es\\default.zip\n",
      "2024-04-09 12:06:15 INFO: Finished downloading models and saved to C:\\Users\\jlsan\\stanza_resources\n"
     ]
    }
   ],
   "source": [
    "import stanza\n",
    "stanza.download('es')\n"
   ]
  },
  {
   "cell_type": "code",
   "execution_count": 7,
   "id": "0a70de75-9514-4b54-b18a-60e658bd2960",
   "metadata": {},
   "outputs": [],
   "source": [
    "main_file=\"C:/Users/jlsan/OneDrive/JEP_LARGE_DATASET/DATA.csv\"\n",
    "data=pd.read_csv(main_file)\n",
    "pd.set_option('display.max_colwidth', None)"
   ]
  },
  {
   "cell_type": "code",
   "execution_count": 9,
   "id": "d5d2d876-bc79-4b04-839d-0eaf49eb7e3a",
   "metadata": {},
   "outputs": [
    {
     "data": {
      "text/html": [
       "<div>\n",
       "<style scoped>\n",
       "    .dataframe tbody tr th:only-of-type {\n",
       "        vertical-align: middle;\n",
       "    }\n",
       "\n",
       "    .dataframe tbody tr th {\n",
       "        vertical-align: top;\n",
       "    }\n",
       "\n",
       "    .dataframe thead th {\n",
       "        text-align: right;\n",
       "    }\n",
       "</style>\n",
       "<table border=\"1\" class=\"dataframe\">\n",
       "  <thead>\n",
       "    <tr style=\"text-align: right;\">\n",
       "      <th></th>\n",
       "      <th>INDEX</th>\n",
       "      <th>TEXT</th>\n",
       "    </tr>\n",
       "  </thead>\n",
       "  <tbody>\n",
       "    <tr>\n",
       "      <th>0</th>\n",
       "      <td>A001-00</td>\n",
       "      <td>Auto 001/00\\n\\nDEBIDO PROCESO DE TUTELA-Notificación iniciación de la acción\\n\\nSi bien el trámite propio de la acción de tutela es breve, sumario e informal, toda vez que busca la protección inmediata de un derecho fundamental cuando quiera que éste se vea amenazado o vulnerado por la acción u omisión de una autoridad pública o de un particular en los casos expresamente señalados, no puede llevarse a cabo el proceso sin el conocimiento de la autoridad o del particular contra quien se impetró, pues de lo contrario se le estaría vulnerando en forma flagrante su derecho a la defensa y por ende al debido proceso.\\n\\n\\n\\nReferencia: Expediente T-246504\\n\\nAcción de tutela instaurada por Lorenza Díaz Padilla contra el Hospital San Jerónimo de Montería\\n\\nMagistrado Sustanciador:\\nDr. JOSÉ GREGORIO HERNÁNDEZ GALINDO\\n\\nSantafé de Bogotá D.C., doce (12) de enero de dos mil (2000).\\n\\nI. ANTECEDENTES.\\n\\nLa accionante manifiesta que es pensionada del hospital San Jerónimo de Montería, entidad que le adeuda las mesadas pensionales desde el mes de abril del corriente año y la prima de junio. Instauró acción de tutela para la protección de los derechos a la vida, a la seguridad social y a la igualdad, por cuanto el Hospital paga a los empleados de planta y no a los pensionados.\\n\\nLa demandada, Empresa Social del Estado \"Hospital San Jerónimo de Montería\", no tuvo oportunidad de manifestarse respecto de la presente acción por cuanto el a quo procedió a fallar, sin comunicarle la existencia de la demanda, lo que era indispensable con el fin de que ejerciera su derecho de defensa.\\n\\n\\nII. DECISION JUDICIAL OBJETO DE REVISION\\n\\nEl Tribunal Superior del Distrito Judicial de Montería -Sala Civil Familia- profirió fallo el 3 de agosto de 1999, mediante el cual decidió declarar improcedente la acción de tutela instaurada por Lorenza Díaz Padilla, por considerar que es menor de 65 años de edad y por lo tanto, su condición no es de ancianidad, ni de indefensión, no existiendo prueba de que el no pago de las mesadas ponga en peligro su derecho a la vida.\\n\\nIII. CONSIDERACIONES DE LA CORTE CONSTITUCIONLA Y FUNDAMENTOS DE LA DECISION\\n\\nNulidad procesal por irregularidades en el trámite de la primera instancia.\\n\\nRevisado el expediente, se observa que no se surtió la notificación al demandado. \\n\\nSi bien el trámite propio de la acción de tutela es breve, sumario e informal, toda vez que busca la protección inmediata de un derecho fundamental cuando quiera que éste se vea amenazado o vulnerado por la acción u omisión de una autoridad pública o de un particular en los casos expresamente señalados, no puede llevarse a cabo el proceso sin el conocimiento de la autoridad o del particular contra quien se impetró, pues de lo contrario se le estaría vulnerando en forma flagrante su derecho a la defensa y por ende al debido proceso.\\n\\nLos derechos fundamentales antes mencionados resultan seriamente comprometidos en este caso, en donde además, como se aprecia en el expediente, no se ordenó ni practicó prueba alguna, limitándose la actuación del juez al escrito petitorio de la tutela.\\n\\nPor lo aquí expuesto, la Sala Quinta de Revisión de la Corte Constitucional, en nombre del pueblo y por mandato de la Constitución,\\n\\nRESUELVE:\\n\\nPrimero.- Dejar sin efecto la providencia del 3 de agosto de 1999, proferida por el Tribunal Superior del Distrito Judicial de Montería, y en consecuencia ABSTENERSE de efectuar la revisión de fondo del fallo dictado al resolver sobre la acción de tutela en referencia, por cuanto se advierte la existencia de una nulidad que afecta todo lo actuado.\\n\\nSegundo.- ORDENAR al Tribunal Superior de Montería que imparta el trámite judicial correspondiente a la primera instancia, subsanando la irregularidad expuesta, y proceda a fallar de conformidad con el procedimiento establecido.\\n\\nTercero.- Para el cumplimiento de lo dispuesto en el numeral anterior se ordena que por Secretaría General de esta Corporación se devuelva el expediente a la Sala Civil - Familia del Tribunal Superior de Montería.\\n\\nCuarto.- Agotado el procedimiento anterior, y su fuere el caso el de su superior jerárquico, devuélvase el expediente a esta Sala para que se surta revisión.\\n\\nNotifíquese, comuníquese, publíquese en la Gaceta de la Corte Constitucional y cúmplase.\\n\\n\\n\\nJOSE GREGORIO HERNANDEZ GALINDO\\nMagistrado\\n\\n\\n\\nALEJANDRO MARTINEZ CABALLERO                 FABIO MORON DIAZ\\n                            Magistrado                                                                                   Magistrado\\n\\n\\n\\nMARTHA SACHICA DE MONCALEANO\\nSecretaria General\\n\\n</td>\n",
       "    </tr>\n",
       "  </tbody>\n",
       "</table>\n",
       "</div>"
      ],
      "text/plain": [
       "     INDEX  \\\n",
       "0  A001-00   \n",
       "\n",
       "                                                                                                                                                                                                                                                                                                                                                                                                                                                                                                                                                                                                                                                                                                                                                                                                                                                                                                                                                                                                                                                                                                                                                                                                                                                                                                                                                                                                                                                                                                                                                                                                                                                                                                                                                                                                                                                                                                                                                                                                                                                                                                                                                                                                                                                                                                                                                                                                                                                                                                                                                                                                                                                                                                                                                                                                                                                                                                                                                                                                                                                                                                                                                                                                                                                                                                                                                                                                                                                                                                                                                                                                                                                                                                                                                                                                                                                                                                                                                                                                                                                                                                                                                                                                                                                                                                                                                                                                                                                                                                                                                                                                                                                                                                                                                                                                                    TEXT  \n",
       "0  Auto 001/00\\n\\nDEBIDO PROCESO DE TUTELA-Notificación iniciación de la acción\\n\\nSi bien el trámite propio de la acción de tutela es breve, sumario e informal, toda vez que busca la protección inmediata de un derecho fundamental cuando quiera que éste se vea amenazado o vulnerado por la acción u omisión de una autoridad pública o de un particular en los casos expresamente señalados, no puede llevarse a cabo el proceso sin el conocimiento de la autoridad o del particular contra quien se impetró, pues de lo contrario se le estaría vulnerando en forma flagrante su derecho a la defensa y por ende al debido proceso.\\n\\n\\n\\nReferencia: Expediente T-246504\\n\\nAcción de tutela instaurada por Lorenza Díaz Padilla contra el Hospital San Jerónimo de Montería\\n\\nMagistrado Sustanciador:\\nDr. JOSÉ GREGORIO HERNÁNDEZ GALINDO\\n\\nSantafé de Bogotá D.C., doce (12) de enero de dos mil (2000).\\n\\nI. ANTECEDENTES.\\n\\nLa accionante manifiesta que es pensionada del hospital San Jerónimo de Montería, entidad que le adeuda las mesadas pensionales desde el mes de abril del corriente año y la prima de junio. Instauró acción de tutela para la protección de los derechos a la vida, a la seguridad social y a la igualdad, por cuanto el Hospital paga a los empleados de planta y no a los pensionados.\\n\\nLa demandada, Empresa Social del Estado \"Hospital San Jerónimo de Montería\", no tuvo oportunidad de manifestarse respecto de la presente acción por cuanto el a quo procedió a fallar, sin comunicarle la existencia de la demanda, lo que era indispensable con el fin de que ejerciera su derecho de defensa.\\n\\n\\nII. DECISION JUDICIAL OBJETO DE REVISION\\n\\nEl Tribunal Superior del Distrito Judicial de Montería -Sala Civil Familia- profirió fallo el 3 de agosto de 1999, mediante el cual decidió declarar improcedente la acción de tutela instaurada por Lorenza Díaz Padilla, por considerar que es menor de 65 años de edad y por lo tanto, su condición no es de ancianidad, ni de indefensión, no existiendo prueba de que el no pago de las mesadas ponga en peligro su derecho a la vida.\\n\\nIII. CONSIDERACIONES DE LA CORTE CONSTITUCIONLA Y FUNDAMENTOS DE LA DECISION\\n\\nNulidad procesal por irregularidades en el trámite de la primera instancia.\\n\\nRevisado el expediente, se observa que no se surtió la notificación al demandado. \\n\\nSi bien el trámite propio de la acción de tutela es breve, sumario e informal, toda vez que busca la protección inmediata de un derecho fundamental cuando quiera que éste se vea amenazado o vulnerado por la acción u omisión de una autoridad pública o de un particular en los casos expresamente señalados, no puede llevarse a cabo el proceso sin el conocimiento de la autoridad o del particular contra quien se impetró, pues de lo contrario se le estaría vulnerando en forma flagrante su derecho a la defensa y por ende al debido proceso.\\n\\nLos derechos fundamentales antes mencionados resultan seriamente comprometidos en este caso, en donde además, como se aprecia en el expediente, no se ordenó ni practicó prueba alguna, limitándose la actuación del juez al escrito petitorio de la tutela.\\n\\nPor lo aquí expuesto, la Sala Quinta de Revisión de la Corte Constitucional, en nombre del pueblo y por mandato de la Constitución,\\n\\nRESUELVE:\\n\\nPrimero.- Dejar sin efecto la providencia del 3 de agosto de 1999, proferida por el Tribunal Superior del Distrito Judicial de Montería, y en consecuencia ABSTENERSE de efectuar la revisión de fondo del fallo dictado al resolver sobre la acción de tutela en referencia, por cuanto se advierte la existencia de una nulidad que afecta todo lo actuado.\\n\\nSegundo.- ORDENAR al Tribunal Superior de Montería que imparta el trámite judicial correspondiente a la primera instancia, subsanando la irregularidad expuesta, y proceda a fallar de conformidad con el procedimiento establecido.\\n\\nTercero.- Para el cumplimiento de lo dispuesto en el numeral anterior se ordena que por Secretaría General de esta Corporación se devuelva el expediente a la Sala Civil - Familia del Tribunal Superior de Montería.\\n\\nCuarto.- Agotado el procedimiento anterior, y su fuere el caso el de su superior jerárquico, devuélvase el expediente a esta Sala para que se surta revisión.\\n\\nNotifíquese, comuníquese, publíquese en la Gaceta de la Corte Constitucional y cúmplase.\\n\\n\\n\\nJOSE GREGORIO HERNANDEZ GALINDO\\nMagistrado\\n\\n\\n\\nALEJANDRO MARTINEZ CABALLERO                 FABIO MORON DIAZ\\n                            Magistrado                                                                                   Magistrado\\n\\n\\n\\nMARTHA SACHICA DE MONCALEANO\\nSecretaria General\\n\\n  "
      ]
     },
     "execution_count": 9,
     "metadata": {},
     "output_type": "execute_result"
    }
   ],
   "source": [
    "data_df=pd.DataFrame(data)\n",
    "data_df.head(1)"
   ]
  },
  {
   "cell_type": "code",
   "execution_count": 10,
   "id": "f77fe5c8-2baa-4e47-99a8-18ac5b98724e",
   "metadata": {},
   "outputs": [
    {
     "name": "stderr",
     "output_type": "stream",
     "text": [
      "2024-04-09 12:09:25 INFO: Checking for updates to resources.json in case models have been updated.  Note: this behavior can be turned off with download_method=None or download_method=DownloadMethod.REUSE_RESOURCES\n"
     ]
    },
    {
     "data": {
      "application/vnd.jupyter.widget-view+json": {
       "model_id": "aa2ebc3d169146749e53a14eb0e53186",
       "version_major": 2,
       "version_minor": 0
      },
      "text/plain": [
       "Downloading https://raw.githubusercontent.com/stanfordnlp/stanza-resources/main/resources_1.8.0.json:   0%|   …"
      ]
     },
     "metadata": {},
     "output_type": "display_data"
    },
    {
     "name": "stderr",
     "output_type": "stream",
     "text": [
      "2024-04-09 12:09:25 INFO: Downloaded file to C:\\Users\\jlsan\\stanza_resources\\resources.json\n",
      "2024-04-09 12:09:27 INFO: Loading these models for language: es (Spanish):\n",
      "==================================\n",
      "| Processor    | Package         |\n",
      "----------------------------------\n",
      "| tokenize     | ancora          |\n",
      "| mwt          | ancora          |\n",
      "| pos          | ancora_charlm   |\n",
      "| lemma        | ancora_nocharlm |\n",
      "| constituency | combined_charlm |\n",
      "| depparse     | ancora_charlm   |\n",
      "| sentiment    | tass2020_charlm |\n",
      "| ner          | conll02         |\n",
      "==================================\n",
      "\n",
      "2024-04-09 12:09:27 INFO: Using device: cpu\n",
      "2024-04-09 12:09:27 INFO: Loading: tokenize\n",
      "2024-04-09 12:09:28 INFO: Loading: mwt\n",
      "2024-04-09 12:09:28 INFO: Loading: pos\n",
      "2024-04-09 12:09:29 INFO: Loading: lemma\n",
      "2024-04-09 12:09:29 INFO: Loading: constituency\n",
      "2024-04-09 12:09:29 INFO: Loading: depparse\n",
      "2024-04-09 12:09:29 INFO: Loading: sentiment\n",
      "2024-04-09 12:09:30 INFO: Loading: ner\n",
      "2024-04-09 12:09:30 INFO: Done loading processors!\n"
     ]
    }
   ],
   "source": [
    "nlp = stanza.Pipeline('es')\n"
   ]
  },
  {
   "cell_type": "code",
   "execution_count": 15,
   "id": "27dd7aa3-d906-4f94-aa44-c66f8d2a4aa2",
   "metadata": {},
   "outputs": [
    {
     "data": {
      "text/plain": [
       "35737"
      ]
     },
     "execution_count": 15,
     "metadata": {},
     "output_type": "execute_result"
    }
   ],
   "source": [
    "len(data_df)"
   ]
  },
  {
   "cell_type": "code",
   "execution_count": 16,
   "id": "736b9818-571f-47c1-8fea-fc59e052bc34",
   "metadata": {},
   "outputs": [],
   "source": [
    "def ent_extractor(doc):\n",
    "    ent_nlp = nlp(doc)\n",
    "    ext_ent = [(ent.text, ent.type) for ent in ent_nlp.ents]\n",
    "    return ext_ent\n",
    "#data_df['entidades'] = data_df['TEXT'].apply(ent_extractor)\n",
    "primer_registro_entidades = ent_extractor(data_df['TEXT'].iloc[0])\n"
   ]
  },
  {
   "cell_type": "code",
   "execution_count": 17,
   "id": "3b35df86-bfe8-4109-9f61-13b6d6c23a0c",
   "metadata": {},
   "outputs": [
    {
     "data": {
      "text/plain": [
       "[('Lorenza Díaz Padilla', 'PER'),\n",
       " ('Hospital San Jerónimo', 'ORG'),\n",
       " ('Montería', 'LOC'),\n",
       " ('Magistrado Sustanciador', 'PER'),\n",
       " ('Dr', 'PER'),\n",
       " ('JOSÉ GREGORIO HERNÁNDEZ', 'PER'),\n",
       " ('Santafé de Bogotá D.C.', 'LOC'),\n",
       " ('I. ANTECEDENTES', 'MISC'),\n",
       " ('San Jerónimo', 'LOC'),\n",
       " ('Montería', 'LOC'),\n",
       " ('Hospital', 'ORG'),\n",
       " ('Empresa Social del Estado', 'ORG'),\n",
       " ('Hospital San Jerónimo de Montería', 'ORG'),\n",
       " ('DECISION JUDICIAL', 'MISC'),\n",
       " ('Tribunal Superior del Distrito Judicial de Montería -Sala Civil Familia-',\n",
       "  'ORG'),\n",
       " ('Lorenza Díaz Padilla', 'PER'),\n",
       " ('Sala Quinta de Revisión de la Corte Constitucional', 'ORG'),\n",
       " ('Constitución', 'MISC'),\n",
       " ('Tribunal Superior del Distrito Judicial de Montería', 'ORG'),\n",
       " ('ABSTENERSE', 'ORG'),\n",
       " ('Tribunal Superior de Montería', 'ORG'),\n",
       " ('Secretaría General de esta Corporación', 'ORG'),\n",
       " ('Sala Civil', 'ORG'),\n",
       " ('Familia del Tribunal Superior de Montería', 'ORG'),\n",
       " ('Sala', 'ORG'),\n",
       " ('Gaceta de la Corte Constitucional', 'ORG'),\n",
       " ('JOSE GREGORIO HERNANDEZ', 'PER'),\n",
       " ('GALINDO\\nMagistrado', 'PER'),\n",
       " ('ALEJANDRO MARTINEZ', 'PER'),\n",
       " ('CABALLERO                 FABIO', 'PER'),\n",
       " ('Magistrad', 'LOC'),\n",
       " ('MARTHA SACHICA', 'MISC')]"
      ]
     },
     "execution_count": 17,
     "metadata": {},
     "output_type": "execute_result"
    }
   ],
   "source": [
    "primer_registro_entidades"
   ]
  },
  {
   "cell_type": "code",
   "execution_count": 11,
   "id": "1be04fb7-8fe6-4003-be99-94f94fcd5efa",
   "metadata": {},
   "outputs": [
    {
     "name": "stdout",
     "output_type": "stream",
     "text": [
      "[{\n",
      "  \"text\": \"Albert Einstein\",\n",
      "  \"type\": \"PER\",\n",
      "  \"start_char\": 0,\n",
      "  \"end_char\": 15\n",
      "}, {\n",
      "  \"text\": \"Ulm\",\n",
      "  \"type\": \"LOC\",\n",
      "  \"start_char\": 28,\n",
      "  \"end_char\": 31\n",
      "}, {\n",
      "  \"text\": \"Germany\",\n",
      "  \"type\": \"LOC\",\n",
      "  \"start_char\": 33,\n",
      "  \"end_char\": 40\n",
      "}]\n"
     ]
    }
   ],
   "source": [
    "doc = nlp(\"Albert Einstein was born in Ulm, Germany.\")\n",
    "print(doc.ents)\n"
   ]
  },
  {
   "cell_type": "code",
   "execution_count": 19,
   "id": "5cd76ece-8b3c-49b4-932e-9a3183c17b64",
   "metadata": {},
   "outputs": [],
   "source": [
    "segundo_registro_entidades = ent_extractor(data_df['TEXT'].iloc[1])"
   ]
  },
  {
   "cell_type": "code",
   "execution_count": 20,
   "id": "6a4fb3bf-8d26-4451-a6de-7ae27a9a6fd6",
   "metadata": {},
   "outputs": [
    {
     "data": {
      "text/plain": [
       "[('Corte', 'ORG'),\n",
       " ('INHIBICION DE LA CORTE CONSTITUCIONAL-Resolución', 'MISC'),\n",
       " ('Sentencia C-1063', 'MISC'),\n",
       " ('Leoncio Ceballos', 'PER'),\n",
       " ('Magistrada Ponente', 'PER'),\n",
       " ('Dra', 'PER'),\n",
       " ('CRISTINA PARDO', 'PER'),\n",
       " ('Bogotá', 'LOC'),\n",
       " ('Corte Constitucional de la República de Colombia', 'ORG'),\n",
       " ('Fabio Morón Díaz', 'PER'),\n",
       " ('Eduardo Montealegre Lynett', 'PER'),\n",
       " ('Alfredo Beltrán Sierra', 'PER'),\n",
       " ('Martha Sáchica de Moncaleano', 'PER'),\n",
       " ('Carlos Gaviria Díaz', 'PER'),\n",
       " ('José Gregorio Hernández Galindo', 'PER'),\n",
       " ('Alejandro Martínez Caballero', 'PER'),\n",
       " ('Cristina Pardo Schlesinger', 'PER'),\n",
       " ('Álvaro Tafur Gálvi', 'PER'),\n",
       " ('AUTO', 'MISC'),\n",
       " ('Leoncio Ceballos Valencia', 'PER'),\n",
       " ('Sentencia C-1063', 'MISC'),\n",
       " ('Corte Constitucional', 'ORG'),\n",
       " ('articulo 1', 'MISC'),\n",
       " ('Decreto 085', 'MISC'),\n",
       " ('L', 'LOC'),\n",
       " ('artículo 49', 'MISC'),\n",
       " ('Decreto 2067', 'MISC'),\n",
       " ('Corte', 'ORG'),\n",
       " ('Corporación', 'ORG'),\n",
       " ('Corte Constitucional', 'ORG'),\n",
       " ('Corte Constitucional', 'ORG'),\n",
       " ('Corporación', 'ORG'),\n",
       " ('Constitución Política', 'MISC'),\n",
       " ('Corte Constitucional', 'ORG'),\n",
       " ('Carta Política', 'MISC'),\n",
       " ('Corte', 'ORG'),\n",
       " ('Estatuto Fundamental', 'MISC'),\n",
       " ('Carta', 'ORG'),\n",
       " ('Corte', 'MISC'),\n",
       " ('Corte Constitucional', 'ORG'),\n",
       " ('Cfr', 'ORG'),\n",
       " ('Corte Constitucional', 'ORG'),\n",
       " ('Sala Plena', 'LOC'),\n",
       " ('M.P. Dr', 'PER'),\n",
       " ('José Gregorio Hernández Galindo', 'PER'),\n",
       " ('Corte', 'ORG'),\n",
       " ('artículo 29', 'MISC'),\n",
       " ('Carta Política', 'MISC'),\n",
       " ('Cfr', 'ORG'),\n",
       " ('Corte Constitucional', 'ORG'),\n",
       " ('Sala Plena', 'LOC'),\n",
       " ('M.P. Dr', 'PER'),\n",
       " ('Jorge Arango Mejía', 'PER'),\n",
       " ('Corte', 'ORG'),\n",
       " ('Sala Plena', 'ORG'),\n",
       " ('artículo 49', 'MISC'),\n",
       " ('Decreto 2067', 'MISC'),\n",
       " ('Corte', 'ORG'),\n",
       " ('Sala Plena de la Corte', 'ORG'),\n",
       " ('artículo 29', 'MISC'),\n",
       " ('Constitución Política', 'MISC'),\n",
       " ('Sala Plena de la Corte', 'ORG'),\n",
       " ('Cfr', 'ORG'),\n",
       " ('Sala Plena', 'LOC'),\n",
       " ('Auto 33', 'MISC'),\n",
       " ('M.P. Dr', 'PER'),\n",
       " ('José Gregorio Hernández Galindo', 'PER'),\n",
       " ('Corte-', 'ORG'),\n",
       " ('Corporación', 'ORG'),\n",
       " ('Auto', 'MISC'),\n",
       " ('Corte Constitucional', 'ORG'),\n",
       " ('Auto A-013', 'MISC'),\n",
       " ('M.P. Dr', 'PER'),\n",
       " ('José Gregorio Hernández Galindo', 'PER'),\n",
       " ('Corte', 'ORG'),\n",
       " ('Corte', 'ORG'),\n",
       " ('artículo 49', 'MISC'),\n",
       " ('Decreto 2067', 'MISC'),\n",
       " ('Corte Constitucional', 'ORG'),\n",
       " ('Pleno de la Corte', 'ORG'),\n",
       " ('Corte', 'ORG'),\n",
       " ('Constitución', 'ORG'),\n",
       " ('Decreto 2067', 'MISC'),\n",
       " ('Corte Constitucional', 'ORG'),\n",
       " ('Decreto', 'MISC'),\n",
       " ('Corte', 'ORG'),\n",
       " ('artículo 29', 'MISC'),\n",
       " ('Sala', 'ORG'),\n",
       " ('Corte', 'ORG'),\n",
       " ('artículo 1º', 'MISC'),\n",
       " ('Decreto 085', 'MISC'),\n",
       " ('Sentencia', 'MISC'),\n",
       " ('artículo 1º', 'MISC'),\n",
       " ('Decreto 085', 'MISC'),\n",
       " ('Artículo 1º', 'MISC'),\n",
       " ('Decreto', 'MISC'),\n",
       " ('Sentencia C-1063', 'MISC'),\n",
       " ('Ejecutiva', 'ORG'),\n",
       " ('artículo 33', 'MISC'),\n",
       " ('Decreto 1042', 'MISC'),\n",
       " ('Decreto Ley 085', 'MISC'),\n",
       " ('Sentencia', 'MISC'),\n",
       " ('Decreto 085', 'MISC'),\n",
       " ('Decreto', 'MISC'),\n",
       " ('Sentencia', 'MISC'),\n",
       " ('Administración', 'ORG'),\n",
       " ('Administración', 'ORG'),\n",
       " ('artículo 3º', 'MISC'),\n",
       " ('Ley 6ª', 'MISC'),\n",
       " ('Sentencia', 'MISC'),\n",
       " ('Sentencia C-1063', 'MISC'),\n",
       " ('Administración Pública', 'ORG'),\n",
       " ('artículo 1º', 'MISC'),\n",
       " ('Decreto 085', 'MISC'),\n",
       " ('Corte', 'ORG'),\n",
       " ('Sentencia C-155', 'MISC'),\n",
       " ('Sentencia', 'MISC'),\n",
       " ('Corte', 'ORG'),\n",
       " ('Constitución', 'MISC'),\n",
       " ('DECISION', 'MISC'),\n",
       " ('Sala Plena de la Corte Constitucional', 'ORG'),\n",
       " ('DENEGAR', 'ORG'),\n",
       " ('Sentencia C-1063', 'MISC'),\n",
       " ('Sala Plena de esta Corporación Judicial', 'ORG'),\n",
       " ('INHIBIRSE', 'ORG'),\n",
       " ('Cópiese', 'PER'),\n",
       " ('Gaceta de la Corte Constitucional', 'ORG'),\n",
       " ('FABIO MORÓN', 'PER'),\n",
       " ('DÍAZ', 'PER'),\n",
       " ('EDUARDO MONTEALEGRE', 'PER'),\n",
       " ('ALFREDO BELTRÁN', 'PER'),\n",
       " ('CARLOS GAVIRIA', 'PER'),\n",
       " ('DÍAZ\\nMagistrad', 'PER'),\n",
       " ('JOSÉ GREGORIO HERNÁNDEZ', 'PER'),\n",
       " ('GALINDO\\nMagistrado', 'PER'),\n",
       " ('ALEJANDRO MARTÍNEZ', 'PER'),\n",
       " ('CRISTINA PARDO SCHLENSINGER\\nMagistrada', 'MISC'),\n",
       " ('MARTHA VICTORIA SÁCHICA', 'MISC'),\n",
       " ('MÉNDEZ\\nMagistrada', 'PER'),\n",
       " ('ALVARO TAFUR GALVIS\\nMagistrado', 'ORG'),\n",
       " ('IVAN HUMBERTO', 'PER'),\n",
       " ('MAYOLO\\nSecretario General', 'PER'),\n",
       " ('Jorge Arango Mejía', 'PER'),\n",
       " ('M.P. José Gregorio Hernández Galindo', 'PER'),\n",
       " ('M.P. Carlos Gaviria Díaz', 'PER')]"
      ]
     },
     "execution_count": 20,
     "metadata": {},
     "output_type": "execute_result"
    }
   ],
   "source": [
    "segundo_registro_entidades"
   ]
  },
  {
   "cell_type": "code",
   "execution_count": 25,
   "id": "223873a1-dd7c-4021-be61-5ab70d265d05",
   "metadata": {},
   "outputs": [],
   "source": [
    "terminos_derechos_humanos = [\n",
    "    'derechos humanos', 'libertad de expresión', 'igualdad de género', 'discriminación', \n",
    "    'trabajo infantil', 'asilo', 'refugiados', 'debido proceso', 'libertad de asociación', \n",
    "    'libre pensamiento', 'libertad de culto', 'seguridad personal', 'desaparecido', \n",
    "    'intimidad', 'libertad de opinión', 'no discriminación', 'libertad sindical'\n",
    "]\n"
   ]
  },
  {
   "cell_type": "code",
   "execution_count": 53,
   "id": "8c44799e-262e-461e-97fa-00d442cab73d",
   "metadata": {},
   "outputs": [],
   "source": [
    "def sentence_finder(textos):  \n",
    "    mark_sentences = []\n",
    "    for idx,texto in textos:  \n",
    "        doc = nlp(texto)\n",
    "        for sentencia in doc.sentences:  \n",
    "            text_sentence = sentencia.text.lower() \n",
    "            if any(term in text_sentence for term in terminos_derechos_humanos):  \n",
    "                mark_sentences.append((idx,sentencia.text))  \n",
    "    return mark_sentences\n"
   ]
  },
  {
   "cell_type": "code",
   "execution_count": 54,
   "id": "97bd9c8b-5886-44f9-8d3f-83bc1208cf86",
   "metadata": {},
   "outputs": [],
   "source": [
    "txt_id=list(zip(data_df.index,data_df['TEXT']))"
   ]
  },
  {
   "cell_type": "code",
   "execution_count": 55,
   "id": "9ce39223-432f-4b25-b572-eb1f8167336b",
   "metadata": {},
   "outputs": [],
   "source": [
    "size = 5\n",
    "all_results = []\n",
    "\n",
    "for i in range(0, 10, size):\n",
    "    end = i + size\n",
    "    batch = txt_id[i:end]\n",
    "    processed_batch = sentence_finder(batch)\n",
    "    all_results.extend(processed_batch)\n"
   ]
  },
  {
   "cell_type": "markdown",
   "id": "c95e6e24-44a5-440c-8bec-190d2d9b3e3d",
   "metadata": {},
   "source": [
    "size=5\n",
    "results=[]\n",
    "\n",
    "for i in range(0,10,size):\n",
    "    end=i+size\n",
    "    batch=data_df['TEXT'].iloc[i:end].tolist()\n",
    "    processed_batch=sentence_finder(batch)\n",
    "    results.extend(processed_batch)\n",
    "\n",
    "\n",
    "    \n",
    "    "
   ]
  },
  {
   "cell_type": "code",
   "execution_count": 56,
   "id": "0aa1200d-7e4b-452b-9f70-5784e7c2fb7f",
   "metadata": {},
   "outputs": [],
   "source": [
    "df_oraciones_encontradas = pd.DataFrame(all_results, columns=['ID_Documento', 'Oración'])"
   ]
  },
  {
   "cell_type": "code",
   "execution_count": 57,
   "id": "05fdd707-efd9-4255-9ba1-fb3c3f8f15b9",
   "metadata": {},
   "outputs": [
    {
     "data": {
      "text/html": [
       "<div>\n",
       "<style scoped>\n",
       "    .dataframe tbody tr th:only-of-type {\n",
       "        vertical-align: middle;\n",
       "    }\n",
       "\n",
       "    .dataframe tbody tr th {\n",
       "        vertical-align: top;\n",
       "    }\n",
       "\n",
       "    .dataframe thead th {\n",
       "        text-align: right;\n",
       "    }\n",
       "</style>\n",
       "<table border=\"1\" class=\"dataframe\">\n",
       "  <thead>\n",
       "    <tr style=\"text-align: right;\">\n",
       "      <th></th>\n",
       "      <th>ID_Documento</th>\n",
       "      <th>Oración</th>\n",
       "    </tr>\n",
       "  </thead>\n",
       "  <tbody>\n",
       "    <tr>\n",
       "      <th>0</th>\n",
       "      <td>0</td>\n",
       "      <td>DEBIDO PROCESO DE TUTELA-Notificación iniciación de la acción</td>\n",
       "    </tr>\n",
       "    <tr>\n",
       "      <th>1</th>\n",
       "      <td>0</td>\n",
       "      <td>Si bien el trámite propio de la acción de tutela es breve, sumario e informal, toda vez que busca la protección inmediata de un derecho fundamental cuando quiera que éste se vea amenazado o vulnerado por la acción u omisión de una autoridad pública o de un particular en los casos expresamente señalados, no puede llevarse a cabo el proceso sin el conocimiento de la autoridad o del particular contra quien se impetró, pues de lo contrario se le estaría vulnerando en forma flagrante su derecho a la defensa y por ende al debido proceso.</td>\n",
       "    </tr>\n",
       "    <tr>\n",
       "      <th>2</th>\n",
       "      <td>0</td>\n",
       "      <td>Si bien el trámite propio de la acción de tutela es breve, sumario e informal, toda vez que busca la protección inmediata de un derecho fundamental cuando quiera que éste se vea amenazado o vulnerado por la acción u omisión de una autoridad pública o de un particular en los casos expresamente señalados, no puede llevarse a cabo el proceso sin el conocimiento de la autoridad o del particular contra quien se impetró, pues de lo contrario se le estaría vulnerando en forma flagrante su derecho a la defensa y por ende al debido proceso.</td>\n",
       "    </tr>\n",
       "    <tr>\n",
       "      <th>3</th>\n",
       "      <td>1</td>\n",
       "      <td>La Corte recuerda que, en asuntos de constitucionalidad, la nulidad de una sentencia será siempre un asunto extraordinario que pueda producirse en uno de los dos momentos: en el del trámite procesal, o en el de la sentencia misma, y en ambos casos por violación del debido proceso.</td>\n",
       "    </tr>\n",
       "    <tr>\n",
       "      <th>4</th>\n",
       "      <td>1</td>\n",
       "      <td>En efecto, con fundamento en ese artículo, la Corte ha admitido solicitudes de nulidad de procesos de constitucionalidad, no sólo por actuaciones o hechos ocurridos antes de dictarse el fallo sino también por irregularidades en la sentencia misma, siempre y cuando éstas impliquen violación del debido proceso, pues esta Corporación ha precisado que tiene \"el deber de declarar las nulidades que se presenten en cualquier etapa del proceso.</td>\n",
       "    </tr>\n",
       "    <tr>\n",
       "      <th>5</th>\n",
       "      <td>1</td>\n",
       "      <td>\"Lo dicho no ha sido obstáculo para que la misma Corte, dando aplicación directa al artículo 29 de la Carta Política, haya admitido que puede darse excepcionalmente en sus sentencias la posibilidad de violaciones del debido proceso, durante el trámite judicial correspondiente o en el momento de dictarse, por lo cual, si ello se prueba y establece de manera contundente, tiene lugar la nulidad del respectivo fallo (Cfr.</td>\n",
       "    </tr>\n",
       "    <tr>\n",
       "      <th>6</th>\n",
       "      <td>1</td>\n",
       "      <td>\"Dispone el precepto legal que sólo las irregularidades que impliquen violación del debido proceso podrán servir de base para que la Sala Plena de la Corte anule el proceso.</td>\n",
       "    </tr>\n",
       "    <tr>\n",
       "      <th>7</th>\n",
       "      <td>1</td>\n",
       "      <td>Se trata de situaciones jurídicas especialísimas y excepcionales, que tan sólo pueden provocar la nulidad del proceso cuando los fundamentos expuestos por quien la alega muestran, de manera indudable y cierta, que las reglas procesales aplicables a los procesos constitucionales, que no son otras que las previstas en los decretos 2067 y 2591 de 1991, han sido quebrantadas, con notoria y flagrante vulneración del debido proceso.</td>\n",
       "    </tr>\n",
       "    <tr>\n",
       "      <th>8</th>\n",
       "      <td>1</td>\n",
       "      <td>Toda sentencia desfavorable disgusta y molesta a quien no fue beneficiado por la decisión que contiene, pero de esa molestia y disgusto no puede deducirse irresponsablemente una vulneración del debido proceso por el sólo hecho de que se trata de una providencia definitiva contra la cual no cabe ningún recurso\".</td>\n",
       "    </tr>\n",
       "    <tr>\n",
       "      <th>9</th>\n",
       "      <td>1</td>\n",
       "      <td>Conforme con lo anterior, la Corte recuerda que, en asuntos de constitucionalidad, la nulidad de una sentencia será siempre un asunto extraordinario que pueda producirse en uno de los dos momentos: en el del trámite procesal, o en el de la sentencia misma, y en ambos casos por violación del debido proceso.</td>\n",
       "    </tr>\n",
       "    <tr>\n",
       "      <th>10</th>\n",
       "      <td>1</td>\n",
       "      <td>En cuanto a la nulidad por violación del debido proceso dentro del trámite procesal que se haya seguido ante la Corte, el artículo 49 del Decreto 2067 de 1991, tras aclarar que contra los fallos de constitucionalidad no procede recurso alguno, indica que  \"La nulidad de los procesos ante la Corte Constitucional sólo puede ser alegada antes de proferido el fallo.</td>\n",
       "    </tr>\n",
       "    <tr>\n",
       "      <th>11</th>\n",
       "      <td>1</td>\n",
       "      <td>Sólo las irregularidades que impliquen violación del debido proceso podrán servir de base para que el Pleno de la Corte anule el proceso\".</td>\n",
       "    </tr>\n",
       "    <tr>\n",
       "      <th>12</th>\n",
       "      <td>1</td>\n",
       "      <td>La Corte encuentra que las irregularidades que en este momento pueden dar lugar a la violación del debido proceso, no son otras que aquellas que se presentan cuando el trámite seguido vulnera o desconoce las normas que la propia Constitución señala en sus artículos 241 y 242 y aquellas otras que indica el Decreto 2067 de 1991 y que conforman el régimen procedimental de los juicios y actuaciones que se surten ante la Corte Constitucional.</td>\n",
       "    </tr>\n",
       "    <tr>\n",
       "      <th>13</th>\n",
       "      <td>1</td>\n",
       "      <td>Y en lo tocante con la nulidad se encuentra su origen en la sentencia misma, aunque ni las normas constitucionales ni el mencionado Decreto  prevén causa alguna de nulidad, la Corte aplicando directamente el artículo 29 superior, ha reconocido la posibilidad de su ocurrencia para aquellos casos en los cuales, en el momento mismo de votar, se produce el desconocimiento del debido proceso, circunstancia  que se circunscribe a los eventos de falta de quórum o de mayoría exigidos por la ley, y de violación del principio de cosa juzgada constitucional.</td>\n",
       "    </tr>\n",
       "    <tr>\n",
       "      <th>14</th>\n",
       "      <td>1</td>\n",
       "      <td>Inexistencia de violación al debido proceso en el proceso que culminó con la sentencia C-1063 de 2000</td>\n",
       "    </tr>\n",
       "    <tr>\n",
       "      <th>15</th>\n",
       "      <td>5</td>\n",
       "      <td>Lo anterior por cuanto una decisión encaminada exclusivamente a precisar el contenido de una decisión judicial es innecesaria, cuando el contenido de dicha decisión es claro, o corre el riesgo de modificar sus alcances, alterar su contenido, reducir su espectro de acción o modificar las condiciones en que se concedió el amparo de tutela, lo cual implica la producción de una nueva providencia judicial y la consecuente afectación de los principios de cosa juzgada y seguridad jurídica, pilares fundamentales del ejercicio del derecho al debido proceso.</td>\n",
       "    </tr>\n",
       "    <tr>\n",
       "      <th>16</th>\n",
       "      <td>5</td>\n",
       "      <td>Lo anterior por cuanto que, como lo ha dicho la propia Corte, una decisión encaminada exclusivamente a precisar el contenido de una decisión judicial es innecesaria, cuando el contenido de dicha decisión es claro, o corre el riesgo de modificar sus alcances, alterar su contenido, reducir su espectro de acción o modificar las condiciones en que se concedió el amparo de tutela, lo cual implica la producción de una nueva providencia judicial y la consecuente afectación de los principios de cosa juzgada y seguridad jurídica, pilares fundamentales del ejercicio del derecho al debido proceso.</td>\n",
       "    </tr>\n",
       "    <tr>\n",
       "      <th>17</th>\n",
       "      <td>5</td>\n",
       "      <td>El principio de seguridad jurídica y el derecho al debido proceso, considerados como pilares de la actividad judicial, resultarían conculcados si la Corte Constitucional reabriera el debate sobre asuntos decididos en forma definitiva.</td>\n",
       "    </tr>\n",
       "  </tbody>\n",
       "</table>\n",
       "</div>"
      ],
      "text/plain": [
       "    ID_Documento  \\\n",
       "0              0   \n",
       "1              0   \n",
       "2              0   \n",
       "3              1   \n",
       "4              1   \n",
       "5              1   \n",
       "6              1   \n",
       "7              1   \n",
       "8              1   \n",
       "9              1   \n",
       "10             1   \n",
       "11             1   \n",
       "12             1   \n",
       "13             1   \n",
       "14             1   \n",
       "15             5   \n",
       "16             5   \n",
       "17             5   \n",
       "\n",
       "                                                                                                                                                                                                                                                                                                                                                                                                                                                                                                                                                                                                              Oración  \n",
       "0                                                                                                                                                                                                                                                                                                                                                                                                                                                                                                                                                       DEBIDO PROCESO DE TUTELA-Notificación iniciación de la acción  \n",
       "1                                                           Si bien el trámite propio de la acción de tutela es breve, sumario e informal, toda vez que busca la protección inmediata de un derecho fundamental cuando quiera que éste se vea amenazado o vulnerado por la acción u omisión de una autoridad pública o de un particular en los casos expresamente señalados, no puede llevarse a cabo el proceso sin el conocimiento de la autoridad o del particular contra quien se impetró, pues de lo contrario se le estaría vulnerando en forma flagrante su derecho a la defensa y por ende al debido proceso.  \n",
       "2                                                           Si bien el trámite propio de la acción de tutela es breve, sumario e informal, toda vez que busca la protección inmediata de un derecho fundamental cuando quiera que éste se vea amenazado o vulnerado por la acción u omisión de una autoridad pública o de un particular en los casos expresamente señalados, no puede llevarse a cabo el proceso sin el conocimiento de la autoridad o del particular contra quien se impetró, pues de lo contrario se le estaría vulnerando en forma flagrante su derecho a la defensa y por ende al debido proceso.  \n",
       "3                                                                                                                                                                                                                                                                                                                           La Corte recuerda que, en asuntos de constitucionalidad, la nulidad de una sentencia será siempre un asunto extraordinario que pueda producirse en uno de los dos momentos: en el del trámite procesal, o en el de la sentencia misma, y en ambos casos por violación del debido proceso.  \n",
       "4                                                                                                                                                            En efecto, con fundamento en ese artículo, la Corte ha admitido solicitudes de nulidad de procesos de constitucionalidad, no sólo por actuaciones o hechos ocurridos antes de dictarse el fallo sino también por irregularidades en la sentencia misma, siempre y cuando éstas impliquen violación del debido proceso, pues esta Corporación ha precisado que tiene \"el deber de declarar las nulidades que se presenten en cualquier etapa del proceso.  \n",
       "5                                                                                                                                                                               \"Lo dicho no ha sido obstáculo para que la misma Corte, dando aplicación directa al artículo 29 de la Carta Política, haya admitido que puede darse excepcionalmente en sus sentencias la posibilidad de violaciones del debido proceso, durante el trámite judicial correspondiente o en el momento de dictarse, por lo cual, si ello se prueba y establece de manera contundente, tiene lugar la nulidad del respectivo fallo (Cfr.  \n",
       "6                                                                                                                                                                                                                                                                                                                                                                                                                                       \"Dispone el precepto legal que sólo las irregularidades que impliquen violación del debido proceso podrán servir de base para que la Sala Plena de la Corte anule el proceso.  \n",
       "7                                                                                                                                                                      Se trata de situaciones jurídicas especialísimas y excepcionales, que tan sólo pueden provocar la nulidad del proceso cuando los fundamentos expuestos por quien la alega muestran, de manera indudable y cierta, que las reglas procesales aplicables a los procesos constitucionales, que no son otras que las previstas en los decretos 2067 y 2591 de 1991, han sido quebrantadas, con notoria y flagrante vulneración del debido proceso.  \n",
       "8                                                                                                                                                                                                                                                                                            Toda sentencia desfavorable disgusta y molesta a quien no fue beneficiado por la decisión que contiene, pero de esa molestia y disgusto no puede deducirse irresponsablemente una vulneración del debido proceso por el sólo hecho de que se trata de una providencia definitiva contra la cual no cabe ningún recurso\".  \n",
       "9                                                                                                                                                                                                                                                                                                 Conforme con lo anterior, la Corte recuerda que, en asuntos de constitucionalidad, la nulidad de una sentencia será siempre un asunto extraordinario que pueda producirse en uno de los dos momentos: en el del trámite procesal, o en el de la sentencia misma, y en ambos casos por violación del debido proceso.  \n",
       "10                                                                                                                                                                                                                                       En cuanto a la nulidad por violación del debido proceso dentro del trámite procesal que se haya seguido ante la Corte, el artículo 49 del Decreto 2067 de 1991, tras aclarar que contra los fallos de constitucionalidad no procede recurso alguno, indica que  \"La nulidad de los procesos ante la Corte Constitucional sólo puede ser alegada antes de proferido el fallo.  \n",
       "11                                                                                                                                                                                                                                                                                                                                                                                                                                                                         Sólo las irregularidades que impliquen violación del debido proceso podrán servir de base para que el Pleno de la Corte anule el proceso\".  \n",
       "12                                                                                                                                                          La Corte encuentra que las irregularidades que en este momento pueden dar lugar a la violación del debido proceso, no son otras que aquellas que se presentan cuando el trámite seguido vulnera o desconoce las normas que la propia Constitución señala en sus artículos 241 y 242 y aquellas otras que indica el Decreto 2067 de 1991 y que conforman el régimen procedimental de los juicios y actuaciones que se surten ante la Corte Constitucional.  \n",
       "13                                          Y en lo tocante con la nulidad se encuentra su origen en la sentencia misma, aunque ni las normas constitucionales ni el mencionado Decreto  prevén causa alguna de nulidad, la Corte aplicando directamente el artículo 29 superior, ha reconocido la posibilidad de su ocurrencia para aquellos casos en los cuales, en el momento mismo de votar, se produce el desconocimiento del debido proceso, circunstancia  que se circunscribe a los eventos de falta de quórum o de mayoría exigidos por la ley, y de violación del principio de cosa juzgada constitucional.  \n",
       "14                                                                                                                                                                                                                                                                                                                                                                                                                                                                                                              Inexistencia de violación al debido proceso en el proceso que culminó con la sentencia C-1063 de 2000  \n",
       "15                                         Lo anterior por cuanto una decisión encaminada exclusivamente a precisar el contenido de una decisión judicial es innecesaria, cuando el contenido de dicha decisión es claro, o corre el riesgo de modificar sus alcances, alterar su contenido, reducir su espectro de acción o modificar las condiciones en que se concedió el amparo de tutela, lo cual implica la producción de una nueva providencia judicial y la consecuente afectación de los principios de cosa juzgada y seguridad jurídica, pilares fundamentales del ejercicio del derecho al debido proceso.  \n",
       "16  Lo anterior por cuanto que, como lo ha dicho la propia Corte, una decisión encaminada exclusivamente a precisar el contenido de una decisión judicial es innecesaria, cuando el contenido de dicha decisión es claro, o corre el riesgo de modificar sus alcances, alterar su contenido, reducir su espectro de acción o modificar las condiciones en que se concedió el amparo de tutela, lo cual implica la producción de una nueva providencia judicial y la consecuente afectación de los principios de cosa juzgada y seguridad jurídica, pilares fundamentales del ejercicio del derecho al debido proceso.  \n",
       "17                                                                                                                                                                                                                                                                                                                                                                         El principio de seguridad jurídica y el derecho al debido proceso, considerados como pilares de la actividad judicial, resultarían conculcados si la Corte Constitucional reabriera el debate sobre asuntos decididos en forma definitiva.  "
      ]
     },
     "execution_count": 57,
     "metadata": {},
     "output_type": "execute_result"
    }
   ],
   "source": [
    "df_oraciones_encontradas"
   ]
  },
  {
   "cell_type": "code",
   "execution_count": null,
   "id": "1577c7c1-bc84-45d3-9e58-a416a130b095",
   "metadata": {},
   "outputs": [],
   "source": []
  }
 ],
 "metadata": {
  "kernelspec": {
   "display_name": "Python 3 (ipykernel)",
   "language": "python",
   "name": "python3"
  },
  "language_info": {
   "codemirror_mode": {
    "name": "ipython",
    "version": 3
   },
   "file_extension": ".py",
   "mimetype": "text/x-python",
   "name": "python",
   "nbconvert_exporter": "python",
   "pygments_lexer": "ipython3",
   "version": "3.12.1"
  }
 },
 "nbformat": 4,
 "nbformat_minor": 5
}
